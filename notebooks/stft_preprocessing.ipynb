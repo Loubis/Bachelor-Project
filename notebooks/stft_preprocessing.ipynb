{
 "metadata": {
  "language_info": {
   "codemirror_mode": {
    "name": "ipython",
    "version": 3
   },
   "file_extension": ".py",
   "mimetype": "text/x-python",
   "name": "python",
   "nbconvert_exporter": "python",
   "pygments_lexer": "ipython3",
   "version": "3.8.8-final"
  },
  "orig_nbformat": 2,
  "kernelspec": {
   "name": "python3",
   "display_name": "Python 3",
   "language": "python"
  }
 },
 "nbformat": 4,
 "nbformat_minor": 2,
 "cells": [
  {
   "cell_type": "code",
   "execution_count": 1,
   "metadata": {},
   "outputs": [],
   "source": [
    "import numpy as np\n",
    "import librosa as lr\n",
    "import tensorflow as tf"
   ]
  },
  {
   "cell_type": "code",
   "execution_count": 2,
   "metadata": {},
   "outputs": [],
   "source": [
    "def _stft_tensorflow(self, waveform):\n",
    "    return self.power_to_db(\n",
    "        tf.matmul(\n",
    "            tf.square(\n",
    "                tf.abs(\n",
    "                    tf.signal.stft(\n",
    "                        np.squeeze(waveform),\n",
    "                        frame_length=2048,\n",
    "                        frame_step=1024,\n",
    "                        fft_length=2048\n",
    "                    )\n",
    "                )\n",
    "            ),\n",
    "            tf.signal.linear_to_mel_weight_matrix(\n",
    "                num_mel_bins=128,\n",
    "                num_spectrogram_bins=2048 // 2 + 1,\n",
    "                sample_rate=44100,\n",
    "                lower_edge_hertz=0,\n",
    "                upper_edge_hertz=8000\n",
    "            )\n",
    "        )\n",
    "    )\n",
    "\n",
    "\n",
    "\"\"\" Source: https://gist.github.com/dschwertfeger/f9746bc62871c736e47d5ec3ff4230f7 \"\"\"\n",
    "def _power_to_db(self, S, amin=1e-16, top_db=80.0):\n",
    "    \"\"\"Convert a power-spectrogram (magnitude squared) to decibel (dB) units.\n",
    "    Computes the scaling ``10 * log10(S / max(S))`` in a numerically\n",
    "    stable way.\n",
    "    Based on:\n",
    "    https://librosa.github.io/librosa/generated/librosa.core.power_to_db.html\n",
    "    \"\"\"\n",
    "    def _tf_log10(x):\n",
    "        numerator = tf.math.log(x)\n",
    "        denominator = tf.math.log(tf.constant(10, dtype=numerator.dtype))\n",
    "        return numerator / denominator\n",
    "    \n",
    "    # Scale magnitude relative to maximum value in S. Zeros in the output \n",
    "    # correspond to positions where S == ref.\n",
    "    ref = tf.reduce_max(S)\n",
    "\n",
    "    log_spec = 10.0 * _tf_log10(tf.maximum(amin, S))\n",
    "    log_spec -= 10.0 * _tf_log10(tf.maximum(amin, ref))\n",
    "\n",
    "    log_spec = tf.maximum(log_spec, tf.reduce_max(log_spec) - top_db)\n",
    "\n",
    "    return log_spec\n",
    "\n",
    "\n",
    "    \n",
    "def _stft_librosa(self, waveform):\n",
    "    return lr.stft(\n",
    "        lr.to_mono(\n",
    "            waveform.reshape( \n",
    "                (waveform.shape[1], waveform.shape[0]) \n",
    "            )\n",
    "        ),\n",
    "        sr=44100,\n",
    "        n_fft=2048,\n",
    "        hop_length=1024\n",
    "    )"
   ]
  },
  {
   "cell_type": "code",
   "execution_count": null,
   "metadata": {},
   "outputs": [],
   "source": []
  }
 ]
}