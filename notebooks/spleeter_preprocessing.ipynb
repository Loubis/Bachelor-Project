{
 "metadata": {
  "language_info": {
   "codemirror_mode": {
    "name": "ipython",
    "version": 3
   },
   "file_extension": ".py",
   "mimetype": "text/x-python",
   "name": "python",
   "nbconvert_exporter": "python",
   "pygments_lexer": "ipython3",
   "version": "3.7.9-final"
  },
  "orig_nbformat": 2,
  "kernelspec": {
   "name": "python3",
   "display_name": "Python 3",
   "language": "python"
  }
 },
 "nbformat": 4,
 "nbformat_minor": 2,
 "cells": [
  {
   "cell_type": "code",
   "execution_count": 4,
   "metadata": {},
   "outputs": [],
   "source": [
    "import pandas as pd\n",
    "from spleeter.separator import Separator\n",
    "from spleeter.audio.adapter import get_default_audio_adapter"
   ]
  },
  {
   "cell_type": "code",
   "execution_count": 10,
   "metadata": {},
   "outputs": [
    {
     "output_type": "stream",
     "name": "stdout",
     "text": [
      "          filename\n1  blues.00001.wav\n"
     ]
    },
    {
     "output_type": "display_data",
     "data": {
      "text/plain": "                                              filename  label\n0    /home/steffen/Datasets/gtzan/genres_original/b...  blues\n1    /home/steffen/Datasets/gtzan/genres_original/b...  blues\n2    /home/steffen/Datasets/gtzan/genres_original/b...  blues\n3    /home/steffen/Datasets/gtzan/genres_original/b...  blues\n4    /home/steffen/Datasets/gtzan/genres_original/b...  blues\n..                                                 ...    ...\n995  /home/steffen/Datasets/gtzan/genres_original/r...   rock\n996  /home/steffen/Datasets/gtzan/genres_original/r...   rock\n997  /home/steffen/Datasets/gtzan/genres_original/r...   rock\n998  /home/steffen/Datasets/gtzan/genres_original/r...   rock\n999  /home/steffen/Datasets/gtzan/genres_original/r...   rock\n\n[1000 rows x 2 columns]",
      "text/html": "<div>\n<style scoped>\n    .dataframe tbody tr th:only-of-type {\n        vertical-align: middle;\n    }\n\n    .dataframe tbody tr th {\n        vertical-align: top;\n    }\n\n    .dataframe thead th {\n        text-align: right;\n    }\n</style>\n<table border=\"1\" class=\"dataframe\">\n  <thead>\n    <tr style=\"text-align: right;\">\n      <th></th>\n      <th>filename</th>\n      <th>label</th>\n    </tr>\n  </thead>\n  <tbody>\n    <tr>\n      <td>0</td>\n      <td>/home/steffen/Datasets/gtzan/genres_original/b...</td>\n      <td>blues</td>\n    </tr>\n    <tr>\n      <td>1</td>\n      <td>/home/steffen/Datasets/gtzan/genres_original/b...</td>\n      <td>blues</td>\n    </tr>\n    <tr>\n      <td>2</td>\n      <td>/home/steffen/Datasets/gtzan/genres_original/b...</td>\n      <td>blues</td>\n    </tr>\n    <tr>\n      <td>3</td>\n      <td>/home/steffen/Datasets/gtzan/genres_original/b...</td>\n      <td>blues</td>\n    </tr>\n    <tr>\n      <td>4</td>\n      <td>/home/steffen/Datasets/gtzan/genres_original/b...</td>\n      <td>blues</td>\n    </tr>\n    <tr>\n      <td>...</td>\n      <td>...</td>\n      <td>...</td>\n    </tr>\n    <tr>\n      <td>995</td>\n      <td>/home/steffen/Datasets/gtzan/genres_original/r...</td>\n      <td>rock</td>\n    </tr>\n    <tr>\n      <td>996</td>\n      <td>/home/steffen/Datasets/gtzan/genres_original/r...</td>\n      <td>rock</td>\n    </tr>\n    <tr>\n      <td>997</td>\n      <td>/home/steffen/Datasets/gtzan/genres_original/r...</td>\n      <td>rock</td>\n    </tr>\n    <tr>\n      <td>998</td>\n      <td>/home/steffen/Datasets/gtzan/genres_original/r...</td>\n      <td>rock</td>\n    </tr>\n    <tr>\n      <td>999</td>\n      <td>/home/steffen/Datasets/gtzan/genres_original/r...</td>\n      <td>rock</td>\n    </tr>\n  </tbody>\n</table>\n<p>1000 rows × 2 columns</p>\n</div>"
     },
     "metadata": {}
    }
   ],
   "source": [
    "# Constants\n",
    "PATH = '/home/steffen/Datasets/gtzan/'\n",
    "DATA_SET = PATH + 'genres_original/'\n",
    "META_DATA_3_SEC = PATH + 'features_3_sec.csv'\n",
    "META_DATA_30_SEC = PATH +'features_30_sec.csv'\n",
    "\n",
    "df = pd.read_csv(META_DATA_30_SEC)\n",
    "df = df[['filename', 'label']]\n",
    "print(df.loc[[1],['filename']])\n",
    "\n",
    "for (index, filename_col, label_col) in df.itertuples():\n",
    "    df.loc[[index],['filename']] = DATA_SET + label_col + '/' + filename_col\n",
    "\n",
    "display(df)\n",
    "\n",
    "# Testfiles\n",
    "file_path_1 = df['filename'][0]\n",
    "file_path_2 = df['filename'][333]\n",
    "file_path_3 = df['filename'][666]\n",
    "file_path_4 = df['filename'][999]"
   ]
  },
  {
   "cell_type": "code",
   "execution_count": 11,
   "metadata": {},
   "outputs": [
    {
     "output_type": "stream",
     "name": "stdout",
     "text": [
      "WARNING:tensorflow:From /home/steffen/miniconda3/envs/Projektarbeit/lib/python3.7/site-packages/spleeter/model/functions/unet.py:30: The name tf.keras.initializers.he_uniform is deprecated. Please use tf.compat.v1.keras.initializers.he_uniform instead.\n",
      "\n",
      "INFO:tensorflow:Apply unet for vocals_spectrogram\n",
      "INFO:tensorflow:Apply unet for drums_spectrogram\n",
      "INFO:tensorflow:Apply unet for bass_spectrogram\n",
      "INFO:tensorflow:Apply unet for other_spectrogram\n",
      "WARNING:tensorflow:From /home/steffen/miniconda3/envs/Projektarbeit/lib/python3.7/site-packages/spleeter/separator.py:158: The name tf.train.Saver is deprecated. Please use tf.compat.v1.train.Saver instead.\n",
      "\n",
      "INFO:spleeter:Downloading model archive https://github.com/deezer/spleeter/releases/download/v1.4.0/4stems.tar.gz\n",
      "INFO:spleeter:Validating archive checksum\n",
      "INFO:spleeter:Extracting downloaded 4stems archive\n",
      "INFO:spleeter:4stems model file(s) extracted\n",
      "WARNING:tensorflow:From /home/steffen/miniconda3/envs/Projektarbeit/lib/python3.7/site-packages/spleeter/separator.py:160: The name tf.Session is deprecated. Please use tf.compat.v1.Session instead.\n",
      "\n",
      "WARNING:tensorflow:From /home/steffen/miniconda3/envs/Projektarbeit/lib/python3.7/site-packages/tensorflow/python/training/saver.py:1276: checkpoint_exists (from tensorflow.python.training.checkpoint_management) is deprecated and will be removed in a future version.\n",
      "Instructions for updating:\n",
      "Use standard file APIs to check for files with this prefix.\n",
      "INFO:tensorflow:Restoring parameters from pretrained_models/4stems/model\n"
     ]
    }
   ],
   "source": [
    "# Spleeter\n",
    "audio_loader = get_default_audio_adapter()\n",
    "sample_rate = 44100\n",
    "waveform, _ = audio_loader.load(file_path_4, sample_rate=sample_rate)\n",
    "\n",
    "seperator = Separator('spleeter:4stems')\n",
    "prediction = seperator.separate(waveform)\n"
   ]
  },
  {
   "cell_type": "code",
   "execution_count": 12,
   "metadata": {},
   "outputs": [
    {
     "output_type": "execute_result",
     "data": {
      "text/plain": [
       "{'vocals': array([[ 0.        ,  0.        ],\n",
       "        [-3.3093057 , -3.4775672 ],\n",
       "        [-0.7741484 , -0.81432515],\n",
       "        ...,\n",
       "        [ 0.        ,  0.        ],\n",
       "        [ 0.        ,  0.        ],\n",
       "        [ 0.        ,  0.        ]], dtype=float32),\n",
       " 'drums': array([[ 0.       ,  0.       ],\n",
       "        [-6.251665 , -6.049061 ],\n",
       "        [-1.5561681, -1.5063362],\n",
       "        ...,\n",
       "        [ 0.       ,  0.       ],\n",
       "        [ 0.       ,  0.       ],\n",
       "        [ 0.       ,  0.       ]], dtype=float32),\n",
       " 'bass': array([[  0.     ,   0.     ],\n",
       "        [311.0405 , 307.74313],\n",
       "        [ 87.2734 ,  86.40626],\n",
       "        ...,\n",
       "        [  0.     ,   0.     ],\n",
       "        [  0.     ,   0.     ],\n",
       "        [  0.     ,   0.     ]], dtype=float32),\n",
       " 'other': array([[   0.     ,    0.     ],\n",
       "        [-301.41833, -298.15518],\n",
       "        [ -84.91958,  -84.06215],\n",
       "        ...,\n",
       "        [   0.     ,    0.     ],\n",
       "        [   0.     ,    0.     ],\n",
       "        [   0.     ,    0.     ]], dtype=float32)}"
      ]
     },
     "metadata": {},
     "execution_count": 12
    }
   ],
   "source": [
    "prediction"
   ]
  },
  {
   "cell_type": "code",
   "execution_count": 13,
   "metadata": {},
   "outputs": [
    {
     "output_type": "error",
     "ename": "NameError",
     "evalue": "name 'label' is not defined",
     "traceback": [
      "\u001b[0;31m---------------------------------------------------------------------------\u001b[0m",
      "\u001b[0;31mNameError\u001b[0m                                 Traceback (most recent call last)",
      "\u001b[0;32m<ipython-input-13-b16d2b91edac>\u001b[0m in \u001b[0;36m<module>\u001b[0;34m\u001b[0m\n\u001b[1;32m      1\u001b[0m data = {\n\u001b[0;32m----> 2\u001b[0;31m     \u001b[0;34m'label'\u001b[0m\u001b[0;34m:\u001b[0m \u001b[0mlabel\u001b[0m\u001b[0;34m,\u001b[0m\u001b[0;34m\u001b[0m\u001b[0;34m\u001b[0m\u001b[0m\n\u001b[0m\u001b[1;32m      3\u001b[0m     'audio': {\n\u001b[1;32m      4\u001b[0m         \u001b[0;34m'original'\u001b[0m\u001b[0;34m:\u001b[0m \u001b[0;34m'BLUB'\u001b[0m\u001b[0;34m\u001b[0m\u001b[0;34m\u001b[0m\u001b[0m\n\u001b[1;32m      5\u001b[0m     }   \n",
      "\u001b[0;31mNameError\u001b[0m: name 'label' is not defined"
     ]
    }
   ],
   "source": [
    "data = {\n",
    "    'label': 'rock',\n",
    "    'audio': {\n",
    "        'original': 'BLUB'\n",
    "    }   \n",
    "}\n",
    "\n",
    "data = { **data['audio'], **prediction }"
   ]
  },
  {
   "cell_type": "code",
   "execution_count": null,
   "metadata": {},
   "outputs": [],
   "source": []
  }
 ]
}