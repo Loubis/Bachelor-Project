{
 "metadata": {
  "orig_nbformat": 2,
  "kernelspec": {
   "name": "python3",
   "display_name": "Python 3",
   "language": "python"
  }
 },
 "nbformat": 4,
 "nbformat_minor": 2,
 "cells": [
  {
   "cell_type": "code",
   "execution_count": 2,
   "metadata": {},
   "outputs": [],
   "source": [
    "import os\n",
    "import tensorflow as tf\n",
    "import numpy as np\n",
    "from tqdm import tqdm\n",
    "from glob import glob\n",
    "from datetime import datetime\n",
    "import sklearn"
   ]
  },
  {
   "cell_type": "code",
   "execution_count": 23,
   "metadata": {},
   "outputs": [],
   "source": [
    "dataset_path = \"/data/processed/gtzan/\"\n"
   ]
  },
  {
   "cell_type": "code",
   "execution_count": 25,
   "metadata": {},
   "outputs": [
    {
     "output_type": "stream",
     "name": "stderr",
     "text": [
      "100%|█████████████████████████████████████████████████████████████████| 6/6 [00:00<00:00,  6.64it/s]\n",
      "(3, 128, 1290)\n",
      "[0 6 4 3 1 7 2 1 7 5 3 0 7 4 5 6 2 6 2 9 1 0 1 9 5 5 0 5 5 5 2 8 2 7 0 8 7\n",
      " 9 5 3 9 1 3 6 4 0 2 1 8 2 1 5 5 3 0 2 7 6 9 3 1 1 8 4 3 2 4 5 4 8 9 5 4 8\n",
      " 4 5 4 6 0 3 4 8 1 1 9 8 1 4 6 0 8 1 0 6 0 3 0 2 1 9 3 3 0 2 6 5 2 4 3 4 6\n",
      " 5 7 8 3 1 9 8 5 5 6 2 7 2 1 3 5 0 4 4 2 3 7 5 9 5 9 3 7 9 6 5 5 7 9 4 0 8\n",
      " 6 0 6 0 4 2 0 6 9 8 9 2 6 9 5 5 4 0 9 5 0 5 9 9 4 9 8 9 3 4 0 6 7 6 6 3 4\n",
      " 7 9 2 0 9 6 6 1 9 1 7 7 5 7 8 5 1 0 9 8 9 7 1 6 5 8 2 2 9 1 3 5 0 3 0 5 3\n",
      " 2 1 4 7 7 7 6 6 9 9 4 7 1 0 0 7 1 2 4 5 4 4 2 7 7 5 8 3 5 5 6 2 8 3 0 6 4\n",
      " 5 1 8 0 2 6 1 8 0 0 4 9 0 7 6 7 8 3 1 1 0 0 1 0 0 7 8 8 9 0 5 7 8 3 8 3 9\n",
      " 5 0 2 2 3 1 1 0 6 8 4 4 5 5 9 3 3 2 7 6 1 3 3 1 6 7 8 6 5 6 7 2 0 6 2 5 2\n",
      " 5 1 5 3 2 8 3 9 5 3 2 0 1 6 2 1 0 3 7 6 1 9 9 2 7 4 7 7 8 7 4 3 5 1 5 8 5\n",
      " 7 5 6 1 0 0 7 3 0 7 1 7 2 4 8 6 1 2 8 1 6 9 9 8 9 5 0 0 3 3 8 9 0 5 3 7 1\n",
      " 3 4 3 3 2 5 8 3 1 3 4 6 4 8 5 2 5 8 2 2 7 8 3 0 8 1 0 7 8 1 8 4 4 3 8 2 1\n",
      " 2 4 5 1 6 4 1 0 8 0 0 0 5 5 3 7 6 2 5 3 7 3 3 5 0 0 2 9 0 0 4 2 1 7 0 0 1\n",
      " 3 5 4 4 9 5 0 9 7 3 8 4 7 4 4 4 7 9 7 1 0 1 2 0 5 2 8 0 6 4 4 5 8 3 7 0 7\n",
      " 6 6 3 5 9 8 4 1 3 4 4 0 0 5 2 6 3 9 0 7 4 5 7 8 8 5 1 9 3 0 0 4 8 7 2 7 8\n",
      " 4 1 4 5 1 4 7 8 7 7 7 4 2 7 7 0 3 6 7 2 2 2 3 3 8 0 9 3 0 5 3 6 1 1 5 5 2\n",
      " 9 2 9 1 4 0 6]\n"
     ]
    }
   ],
   "source": [
    "x_train, y_train = [], []\n",
    "\n",
    "for np_name in tqdm(glob(f'{dataset_path}arr_train_*.npz'), ncols=100):\n",
    "    npzfile = np.load(np_name)\n",
    "    x_train.append(npzfile['arr_0'])\n",
    "    y_train.append(npzfile['arr_1'])\n",
    "\n",
    "x_train = np.concatenate(x_train, axis=0)\n",
    "y_train = np.concatenate(y_train, axis=0)\n",
    "x_train, y_train = sklearn.utils.shuffle(x_train, y_train)\n",
    "\n",
    "print(x_train[0].shape)\n",
    "print(y_train)"
   ]
  },
  {
   "cell_type": "code",
   "execution_count": 26,
   "metadata": {
    "tags": []
   },
   "outputs": [
    {
     "output_type": "stream",
     "name": "stderr",
     "text": [
      "100%|█████████████████████████████████████████████████████████████████| 2/2 [00:00<00:00,  6.70it/s]\n",
      "(3, 128, 1290)\n",
      "[9 9 9 0 3 5 8 8 1 3 8 5 9 4 7 3 3 3 6 2 1 6 8 8 5 3 0 1 8 7 1 1 4 6 3 3 3\n",
      " 9 1 6 1 5 6 3 8 8 2 1 7 7 9 7 9 6 7 6 2 2 7 2 5 2 7 6 8 9 0 7 6 9 3 6 3 9\n",
      " 5 1 4 9 9 4 0 9 3 4 9 7 4 4 0 5 4 3 3 2 0 6 8 9 4 4 3 0 6 6 4 5 6 8 6 8 8\n",
      " 0 9 0 4 9 1 6 9 6 5 9 4 9 8 7 8 8 5 3 9 2 5 9 5 0 2 8 3 7 2 2 3 6 4 4 6 3\n",
      " 9 9 6 6 8 2 7 7 2 0 1 7 9 7 8 2 3 6 2 2 1 1 6 0 2 0 1 1 6 4 9 4 1 1 5 6 6\n",
      " 0 8 8 3 6 3 5 0 8 2 5 6 1 6 8]\n"
     ]
    }
   ],
   "source": [
    "x_valid, y_valid = [], []\n",
    "\n",
    "for np_name in tqdm(glob(f'{dataset_path}arr_validate_*.npz'), ncols=100):\n",
    "    npzfile = np.load(np_name)\n",
    "    x_valid.append(npzfile['arr_0'])\n",
    "    y_valid.append(npzfile['arr_1'])\n",
    "\n",
    "x_valid = np.concatenate(x_valid, axis=0)\n",
    "y_valid = np.concatenate(y_valid, axis=0)\n",
    "x_valid, y_valid = sklearn.utils.shuffle(x_valid, y_valid)\n",
    "\n",
    "print(x_valid[0].shape)\n",
    "print(y_valid)"
   ]
  },
  {
   "cell_type": "code",
   "execution_count": null,
   "metadata": {},
   "outputs": [],
   "source": []
  }
 ]
}