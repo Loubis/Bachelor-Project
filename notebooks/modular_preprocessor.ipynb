{
 "metadata": {
  "language_info": {
   "codemirror_mode": {
    "name": "ipython",
    "version": 3
   },
   "file_extension": ".py",
   "mimetype": "text/x-python",
   "name": "python",
   "nbconvert_exporter": "python",
   "pygments_lexer": "ipython3",
   "version": "3.7.9-final"
  },
  "orig_nbformat": 2,
  "kernelspec": {
   "name": "python3",
   "display_name": "Python 3",
   "language": "python"
  }
 },
 "nbformat": 4,
 "nbformat_minor": 2,
 "cells": [
  {
   "cell_type": "code",
   "execution_count": 2,
   "metadata": {},
   "outputs": [],
   "source": [
    "from enum import Enum"
   ]
  },
  {
   "cell_type": "code",
   "execution_count": 3,
   "metadata": {},
   "outputs": [],
   "source": [
    "def x():\n",
    "    print('Func x')\n",
    "\n",
    "\n",
    "def y():\n",
    "    print('Func y')\n",
    "\n",
    "\n",
    "def z():\n",
    "    print('Func z')\n",
    "\n",
    "\n",
    "def a():\n",
    "    print('Func a')"
   ]
  },
  {
   "cell_type": "code",
   "execution_count": 4,
   "metadata": {},
   "outputs": [
    {
     "output_type": "stream",
     "name": "stdout",
     "text": [
      "Func x\nFunc x\nFunc y\nFunc a\nFunc z\nFunc x\nFunc x\nFunc y\n"
     ]
    }
   ],
   "source": [
    "func_list = [x, x, y, a, z, x, x, y]\n",
    "\n",
    "for func in func_list:\n",
    "    func()\n"
   ]
  },
  {
   "cell_type": "code",
   "execution_count": 13,
   "metadata": {},
   "outputs": [
    {
     "output_type": "stream",
     "name": "stdout",
     "text": [
      "Constructor Test 1\nConstructor Test 2\nConstructor Test 4\nConstructor Test 3\nConstructor Test 2\nConstructor Test 4\nrun class 1\nrun class 2\nrun class 4\nrun class 3\nrun class 2\nrun class 4\n"
     ]
    }
   ],
   "source": [
    "class Test1():\n",
    "    def __init__(self):\n",
    "        print('Constructor Test 1')\n",
    "\n",
    "    def run(self):\n",
    "        print('run class 1')\n",
    "\n",
    "\n",
    "class Test2():\n",
    "    def __init__(self):\n",
    "        print('Constructor Test 2')\n",
    "\n",
    "    def run(self):\n",
    "        print('run class 2')\n",
    "\n",
    "\n",
    "class Test3():\n",
    "    def __init__(self):\n",
    "        print('Constructor Test 3')\n",
    "\n",
    "    def run(self):\n",
    "        print('run class 3')\n",
    "\n",
    "\n",
    "class Test4():\n",
    "    def __init__(self):\n",
    "        print('Constructor Test 4')\n",
    "\n",
    "    def run(self):\n",
    "        print('run class 4')\n",
    "\n",
    "class ClassList():\n",
    "    TEST_1 = Test1\n",
    "    TEST_2 = Test2\n",
    "    TEST_3 = Test3\n",
    "    TEST_4 = Test4\n",
    "\n",
    "class_list = [ClassList.TEST_1(), ClassList.TEST_2(), ClassList.TEST_4(), ClassList.TEST_3(), ClassList.TEST_2(), ClassList.TEST_4()]\n",
    "\n",
    "for instance in class_list:\n",
    "    instance.run()\n",
    "\n",
    "    "
   ]
  },
  {
   "cell_type": "code",
   "execution_count": null,
   "metadata": {},
   "outputs": [],
   "source": []
  }
 ]
}