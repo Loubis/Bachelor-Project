{
 "metadata": {
  "language_info": {
   "codemirror_mode": {
    "name": "ipython",
    "version": 3
   },
   "file_extension": ".py",
   "mimetype": "text/x-python",
   "name": "python",
   "nbconvert_exporter": "python",
   "pygments_lexer": "ipython3",
   "version": "3.8.8-final"
  },
  "orig_nbformat": 2,
  "kernelspec": {
   "name": "python3",
   "display_name": "Python 3",
   "language": "python"
  }
 },
 "nbformat": 4,
 "nbformat_minor": 2,
 "cells": [
  {
   "cell_type": "code",
   "execution_count": 2,
   "metadata": {},
   "outputs": [],
   "source": [
    "import pandas as pd\n",
    "import os\n",
    "import math\n",
    "import numpy as np\n",
    "from tqdm import tqdm\n"
   ]
  },
  {
   "cell_type": "code",
   "execution_count": 3,
   "metadata": {},
   "outputs": [],
   "source": [
    "PATH = '~/Datasets/fma/'\n",
    "DATA_SET = os.path.join(PATH, 'fma_small/')\n",
    "META_DATA = os.path.join(PATH, 'fma_metadata/tracks.csv')"
   ]
  },
  {
   "cell_type": "code",
   "execution_count": 16,
   "metadata": {
    "tags": []
   },
   "outputs": [],
   "source": [
    "df = pd.read_csv(META_DATA, index_col=0, header=[0, 1])\n",
    "df = df[df[('set', 'subset')] == 'small']\n",
    "df = df[[('track', 'genre_top')]]\n",
    "\n",
    "pd.DataFrame(\n",
    "    { 'file': os.path.join(DATA_SET, \"{:06d}\".format(index)[:3], \"{:06d}\".format(index) + \".mp3\"), 'label': label } for (index, label) in df.itertuples()\n",
    ")\n",
    "\n",
    "genres_dict = {}\n",
    "genres = df[(\"track\", \"genre_top\")].dropna().unique()\n",
    "for label in genres:\n",
    "    genres_dict.update({label: len(genres_dict)})\n",
    "print(genres_dict)\n",
    "    "
   ]
  },
  {
   "cell_type": "code",
   "execution_count": null,
   "metadata": {},
   "outputs": [],
   "source": []
  }
 ]
}