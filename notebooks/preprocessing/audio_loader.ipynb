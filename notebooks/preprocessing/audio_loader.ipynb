{
 "metadata": {
  "language_info": {
   "codemirror_mode": {
    "name": "ipython",
    "version": 3
   },
   "file_extension": ".py",
   "mimetype": "text/x-python",
   "name": "python",
   "nbconvert_exporter": "python",
   "pygments_lexer": "ipython3",
   "version": "3.7.9"
  },
  "orig_nbformat": 2,
  "kernelspec": {
   "name": "python3",
   "display_name": "Python 3",
   "language": "python"
  }
 },
 "nbformat": 4,
 "nbformat_minor": 2,
 "cells": [
  {
   "cell_type": "code",
   "execution_count": 2,
   "metadata": {},
   "outputs": [],
   "source": [
    "import pandas as pd\n",
    "import numpy as np\n",
    "from tqdm import tqdm\n",
    "\n",
    "from spleeter.audio.adapter import get_default_audio_adapter\n",
    "import librosa\n",
    "\n",
    "audio_loader = get_default_audio_adapter()\n",
    "\n",
    "# Runtime measurement\n",
    "import time"
   ]
  },
  {
   "cell_type": "code",
   "execution_count": 3,
   "metadata": {},
   "outputs": [
    {
     "output_type": "display_data",
     "data": {
      "text/plain": "                                                  file  label\n0    /home/steffen/Datasets/gtzan/genres_original/b...  blues\n1    /home/steffen/Datasets/gtzan/genres_original/b...  blues\n2    /home/steffen/Datasets/gtzan/genres_original/b...  blues\n3    /home/steffen/Datasets/gtzan/genres_original/b...  blues\n4    /home/steffen/Datasets/gtzan/genres_original/b...  blues\n..                                                 ...    ...\n995  /home/steffen/Datasets/gtzan/genres_original/r...   rock\n996  /home/steffen/Datasets/gtzan/genres_original/r...   rock\n997  /home/steffen/Datasets/gtzan/genres_original/r...   rock\n998  /home/steffen/Datasets/gtzan/genres_original/r...   rock\n999  /home/steffen/Datasets/gtzan/genres_original/r...   rock\n\n[1000 rows x 2 columns]",
      "text/html": "<div>\n<style scoped>\n    .dataframe tbody tr th:only-of-type {\n        vertical-align: middle;\n    }\n\n    .dataframe tbody tr th {\n        vertical-align: top;\n    }\n\n    .dataframe thead th {\n        text-align: right;\n    }\n</style>\n<table border=\"1\" class=\"dataframe\">\n  <thead>\n    <tr style=\"text-align: right;\">\n      <th></th>\n      <th>file</th>\n      <th>label</th>\n    </tr>\n  </thead>\n  <tbody>\n    <tr>\n      <td>0</td>\n      <td>/home/steffen/Datasets/gtzan/genres_original/b...</td>\n      <td>blues</td>\n    </tr>\n    <tr>\n      <td>1</td>\n      <td>/home/steffen/Datasets/gtzan/genres_original/b...</td>\n      <td>blues</td>\n    </tr>\n    <tr>\n      <td>2</td>\n      <td>/home/steffen/Datasets/gtzan/genres_original/b...</td>\n      <td>blues</td>\n    </tr>\n    <tr>\n      <td>3</td>\n      <td>/home/steffen/Datasets/gtzan/genres_original/b...</td>\n      <td>blues</td>\n    </tr>\n    <tr>\n      <td>4</td>\n      <td>/home/steffen/Datasets/gtzan/genres_original/b...</td>\n      <td>blues</td>\n    </tr>\n    <tr>\n      <td>...</td>\n      <td>...</td>\n      <td>...</td>\n    </tr>\n    <tr>\n      <td>995</td>\n      <td>/home/steffen/Datasets/gtzan/genres_original/r...</td>\n      <td>rock</td>\n    </tr>\n    <tr>\n      <td>996</td>\n      <td>/home/steffen/Datasets/gtzan/genres_original/r...</td>\n      <td>rock</td>\n    </tr>\n    <tr>\n      <td>997</td>\n      <td>/home/steffen/Datasets/gtzan/genres_original/r...</td>\n      <td>rock</td>\n    </tr>\n    <tr>\n      <td>998</td>\n      <td>/home/steffen/Datasets/gtzan/genres_original/r...</td>\n      <td>rock</td>\n    </tr>\n    <tr>\n      <td>999</td>\n      <td>/home/steffen/Datasets/gtzan/genres_original/r...</td>\n      <td>rock</td>\n    </tr>\n  </tbody>\n</table>\n<p>1000 rows × 2 columns</p>\n</div>"
     },
     "metadata": {}
    }
   ],
   "source": [
    "# Testing with gtzan\n",
    "# Samplerate 22050 Hz\n",
    "# Constants\n",
    "PATH = '/home/steffen/Datasets/gtzan/'\n",
    "DATA_SET = PATH + 'genres_original/'\n",
    "META_DATA_3_SEC = PATH + 'features_3_sec.csv'\n",
    "META_DATA_30_SEC = PATH +'features_30_sec.csv'\n",
    "df = pd.read_csv(META_DATA_30_SEC)\n",
    "df = df[['filename', 'label']]\n",
    "for (index, filename_col, label_col) in df.itertuples():\n",
    "    df.loc[[index],['filename']] = DATA_SET + label_col + '/' + filename_col\n",
    "\n",
    "df = df.rename(columns={ 'filename': 'file' })\n",
    "display(df)"
   ]
  },
  {
   "cell_type": "code",
   "execution_count": 9,
   "metadata": {},
   "outputs": [
    {
     "output_type": "display_data",
     "data": {
      "text/plain": "                                                   file    label\n0     /home/steffen/Datasets/fma/fma_small/000/00000...  Hip-Hop\n1     /home/steffen/Datasets/fma/fma_small/000/00000...  Hip-Hop\n2     /home/steffen/Datasets/fma/fma_small/000/00001...      Pop\n3     /home/steffen/Datasets/fma/fma_small/000/00014...     Folk\n4     /home/steffen/Datasets/fma/fma_small/000/00014...     Folk\n...                                                 ...      ...\n7995  /home/steffen/Datasets/fma/fma_small/154/15430...  Hip-Hop\n7996  /home/steffen/Datasets/fma/fma_small/154/15430...  Hip-Hop\n7997  /home/steffen/Datasets/fma/fma_small/154/15441...      Pop\n7998  /home/steffen/Datasets/fma/fma_small/154/15441...      Pop\n7999  /home/steffen/Datasets/fma/fma_small/155/15506...  Hip-Hop\n\n[8000 rows x 2 columns]",
      "text/html": "<div>\n<style scoped>\n    .dataframe tbody tr th:only-of-type {\n        vertical-align: middle;\n    }\n\n    .dataframe tbody tr th {\n        vertical-align: top;\n    }\n\n    .dataframe thead th {\n        text-align: right;\n    }\n</style>\n<table border=\"1\" class=\"dataframe\">\n  <thead>\n    <tr style=\"text-align: right;\">\n      <th></th>\n      <th>file</th>\n      <th>label</th>\n    </tr>\n  </thead>\n  <tbody>\n    <tr>\n      <td>0</td>\n      <td>/home/steffen/Datasets/fma/fma_small/000/00000...</td>\n      <td>Hip-Hop</td>\n    </tr>\n    <tr>\n      <td>1</td>\n      <td>/home/steffen/Datasets/fma/fma_small/000/00000...</td>\n      <td>Hip-Hop</td>\n    </tr>\n    <tr>\n      <td>2</td>\n      <td>/home/steffen/Datasets/fma/fma_small/000/00001...</td>\n      <td>Pop</td>\n    </tr>\n    <tr>\n      <td>3</td>\n      <td>/home/steffen/Datasets/fma/fma_small/000/00014...</td>\n      <td>Folk</td>\n    </tr>\n    <tr>\n      <td>4</td>\n      <td>/home/steffen/Datasets/fma/fma_small/000/00014...</td>\n      <td>Folk</td>\n    </tr>\n    <tr>\n      <td>...</td>\n      <td>...</td>\n      <td>...</td>\n    </tr>\n    <tr>\n      <td>7995</td>\n      <td>/home/steffen/Datasets/fma/fma_small/154/15430...</td>\n      <td>Hip-Hop</td>\n    </tr>\n    <tr>\n      <td>7996</td>\n      <td>/home/steffen/Datasets/fma/fma_small/154/15430...</td>\n      <td>Hip-Hop</td>\n    </tr>\n    <tr>\n      <td>7997</td>\n      <td>/home/steffen/Datasets/fma/fma_small/154/15441...</td>\n      <td>Pop</td>\n    </tr>\n    <tr>\n      <td>7998</td>\n      <td>/home/steffen/Datasets/fma/fma_small/154/15441...</td>\n      <td>Pop</td>\n    </tr>\n    <tr>\n      <td>7999</td>\n      <td>/home/steffen/Datasets/fma/fma_small/155/15506...</td>\n      <td>Hip-Hop</td>\n    </tr>\n  </tbody>\n</table>\n<p>8000 rows × 2 columns</p>\n</div>"
     },
     "metadata": {}
    }
   ],
   "source": [
    "# Testing with fma\n",
    "# Samplerate \"mostly\" (don't know what they mean) 44100 Hz\n",
    "# Constants\n",
    "PATH = '/home/steffen/Datasets/fma/'\n",
    "DATA_SET = os.path.join(PATH, 'fma_small/')\n",
    "META_DATA = os.path.join(PATH, 'fma_metadata/tracks.csv')\n",
    "df = pd.read_csv(META_DATA, index_col=0, header=[0, 1])\n",
    "df = df[df[('set', 'subset')] == 'small']\n",
    "df = df[[('track', 'genre_top')]]\n",
    "new_df = pd.DataFrame(\n",
    "    { 'file': os.path.join(DATA_SET, \"{:06d}\".format(index)[:3], \"{:06d}\".format(index) + \".mp3\"), 'label': label } for (index, label) in df.itertuples()\n",
    ")\n",
    "\n",
    "df = new_df\n",
    "\n",
    "display(df)"
   ]
  },
  {
   "cell_type": "code",
   "execution_count": 95,
   "metadata": {},
   "outputs": [
    {
     "output_type": "stream",
     "name": "stdout",
     "text": [
      "/home/steffen/Datasets/fma/fma_small/000/000002.mp3\n"
     ]
    }
   ],
   "source": [
    "print(df.iloc[0]['file'])"
   ]
  },
  {
   "cell_type": "code",
   "execution_count": 96,
   "metadata": {},
   "outputs": [
    {
     "output_type": "stream",
     "name": "stdout",
     "text": [
      "librosa shape & sample rate\n(1321967,)\n44100\n"
     ]
    }
   ],
   "source": [
    "librosa_loaded, sample_rate = librosa.load(df.iloc[0]['file'], sr=44100)\n",
    "\n",
    "print(\"librosa shape & sample rate\")\n",
    "print(librosa_loaded.shape)\n",
    "print(sample_rate)"
   ]
  },
  {
   "cell_type": "code",
   "execution_count": 89,
   "metadata": {
    "tags": []
   },
   "outputs": [
    {
     "output_type": "stream",
     "name": "stdout",
     "text": [
      "0.06511592864990234\n"
     ]
    }
   ],
   "source": [
    "start = time.time()\n",
    "spleeter_loaded = audio_loader.load(df.iloc[0]['file'], sample_rate=44100)\n",
    "\n",
    "if spleeter_loaded[0].shape[1] == 1:\n",
    "    audio = np.array([ ( 'original', np.repeat(a=spleeter_loaded[0], repeats=2, axis=1) ) ])\n",
    "else: \n",
    "    audio = np.array([ ( 'original', spleeter_loaded[0]) ])\n",
    "\n",
    "data = np.array([ df.iloc[0]['label'], np.array(audio) ])\n",
    "\n",
    "data[1] = np.append(data[1], ['some_other', spleeter_loaded[0]])\n",
    "\n",
    "np_data = data\n",
    "\n",
    "end = time.time()\n",
    "print(end - start)"
   ]
  },
  {
   "cell_type": "code",
   "execution_count": 90,
   "metadata": {},
   "outputs": [
    {
     "output_type": "stream",
     "name": "stdout",
     "text": [
      "0.0564267635345459\n"
     ]
    }
   ],
   "source": [
    "start = time.time()\n",
    "spleeter_loaded = audio_loader.load(df.iloc[0]['file'], sample_rate=44100)\n",
    "\n",
    "if spleeter_loaded[0].shape[1] == 1:\n",
    "    audio = { 'original': np.repeat(a=spleeter_loaded[0], repeats=2, axis=1) }\n",
    "else: \n",
    "    audio = { 'original': spleeter_loaded[0]}\n",
    "\n",
    "data = {\n",
    "    'label': df.iloc[0]['label'],\n",
    "    'data': audio\n",
    "}\n",
    "\n",
    "data['data']['some_other'] = spleeter_loaded[0]\n",
    "\n",
    "data['data'] = list(data['data'].items())\n",
    "data = list(data.items())\n",
    "\n",
    "py_data = np.array([data])\n",
    "\n",
    "end = time.time()\n",
    "print(end - start)"
   ]
  },
  {
   "cell_type": "code",
   "execution_count": 96,
   "metadata": {},
   "outputs": [
    {
     "output_type": "stream",
     "name": "stdout",
     "text": [
      "['Hip-Hop'\n array(['original',\n       array([[ 0.        ,  0.        ],\n       [ 0.        ,  0.        ],\n       [ 0.        ,  0.        ],\n       ...,\n       [-0.22564425, -0.26903775],\n       [-0.18057378, -0.21723682],\n       [-0.0919052 , -0.11841217]], dtype=float32),\n       'some_other',\n       array([[ 0.        ,  0.        ],\n       [ 0.        ,  0.        ],\n       [ 0.        ,  0.        ],\n       ...,\n       [-0.22564425, -0.26903775],\n       [-0.18057378, -0.21723682],\n       [-0.0919052 , -0.11841217]], dtype=float32)], dtype=object)]\n16\n\n[[['label' 'Hip-Hop']\n  ['data'\n   list([('original', array([[ 0.        ,  0.        ],\n       [ 0.        ,  0.        ],\n       [ 0.        ,  0.        ],\n       ...,\n       [-0.22564425, -0.26903775],\n       [-0.18057378, -0.21723682],\n       [-0.0919052 , -0.11841217]], dtype=float32)), ('some_other', array([[ 0.        ,  0.        ],\n       [ 0.        ,  0.        ],\n       [ 0.        ,  0.        ],\n       ...,\n       [-0.22564425, -0.26903775],\n       [-0.18057378, -0.21723682],\n       [-0.0919052 , -0.11841217]], dtype=float32))])]]]\n32\n"
     ]
    }
   ],
   "source": [
    "print(np_data)\n",
    "print(np_data.size*np_data.itemsize)\n",
    "print()\n",
    "print(py_data)\n",
    "print(py_data.size*py_data.itemsize)"
   ]
  },
  {
   "cell_type": "code",
   "execution_count": 3,
   "metadata": {},
   "outputs": [],
   "source": [
    "class FileLoader():\n",
    "\n",
    "    def __init__(self):\n",
    "        self._audio_loader = get_default_audio_adapter()\n",
    "\n",
    "\n",
    "    def load(self, df):\n",
    "        collection = None\n",
    "        for (_, file, label) in tqdm(df.itertuples()):\n",
    "            try:\n",
    "                audio = self._audio_loader.load(file, sample_rate=44100)\n",
    "\n",
    "                if audio[0].shape[1] == 1:\n",
    "                    audio = np.array([ ( 'original', np.repeat(a=audio[0], repeats=2, axis=1) ) ])\n",
    "                else: \n",
    "                    audio = np.array([ ( 'original', audio[0]) ])\n",
    "\n",
    "                data = np.array([ label, np.array(audio) ])\n",
    "\n",
    "                if collection is None:\n",
    "                    collection = np.array([data])\n",
    "                else:\n",
    "                    collection = np.append(collection, [data])\n",
    "            except Exception as e:\n",
    "                print(e)\n",
    "\n",
    "        return collection\n"
   ]
  },
  {
   "cell_type": "code",
   "execution_count": 4,
   "metadata": {},
   "outputs": [
    {
     "output_type": "stream",
     "name": "stderr",
     "text": [
      "556it [00:41, 10.98it/s]An error occurs with ffprobe (see ffprobe output below)\n",
      "\n",
      "ffprobe version 4.3.1 Copyright (c) 2007-2020 the FFmpeg developers\n",
      "  built with gcc 9.3.0 (crosstool-NG 1.24.0.133_b0863d8_dirty)\n",
      "  configuration: --prefix=/home/steffen/miniconda3/envs/Projektarbeit --cc=/home/conda/feedstock_root/build_artifacts/ffmpeg_1609680890771/_build_env/bin/x86_64-conda-linux-gnu-cc --disable-doc --disable-openssl --enable-avresample --enable-gnutls --enable-gpl --enable-hardcoded-tables --enable-libfreetype --enable-libopenh264 --enable-libx264 --enable-pic --enable-pthreads --enable-shared --enable-static --enable-version3 --enable-zlib --enable-libmp3lame --pkg-config=/home/conda/feedstock_root/build_artifacts/ffmpeg_1609680890771/_build_env/bin/pkg-config\n",
      "  libavutil      56. 51.100 / 56. 51.100\n",
      "  libavcodec     58. 91.100 / 58. 91.100\n",
      "  libavformat    58. 45.100 / 58. 45.100\n",
      "  libavdevice    58. 10.100 / 58. 10.100\n",
      "  libavfilter     7. 85.100 /  7. 85.100\n",
      "  libavresample   4.  0.  0 /  4.  0.  0\n",
      "  libswscale      5.  7.100 /  5.  7.100\n",
      "  libswresample   3.  7.100 /  3.  7.100\n",
      "  libpostproc    55.  7.100 / 55.  7.100\n",
      "/home/steffen/Datasets/gtzan/genres_original/jazz/jazz.00054.wav: Invalid data found when processing input\n",
      "\n",
      "1000it [01:30, 11.03it/s]\n"
     ]
    }
   ],
   "source": [
    "file_loader = FileLoader()\n",
    "data = file_loader.load(df)"
   ]
  }
 ]
}