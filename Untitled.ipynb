{
 "cells": [
  {
   "cell_type": "code",
   "execution_count": 47,
   "metadata": {},
   "outputs": [],
   "source": [
    "import numpy as np"
   ]
  },
  {
   "cell_type": "code",
   "execution_count": 48,
   "metadata": {},
   "outputs": [],
   "source": [
    "sample_rate = 44100\n",
    "song_length = 30\n",
    "slice_length = 10\n",
    "test_length = sample_rate * song_length + 666"
   ]
  },
  {
   "cell_type": "code",
   "execution_count": 49,
   "metadata": {},
   "outputs": [
    {
     "name": "stdout",
     "output_type": "stream",
     "text": [
      "(2, 1323666)\n"
     ]
    }
   ],
   "source": [
    "data = np.random.rand(2, test_length)\n",
    "\n",
    "print(data.shape)"
   ]
  },
  {
   "cell_type": "code",
   "execution_count": 50,
   "metadata": {},
   "outputs": [
    {
     "name": "stdout",
     "output_type": "stream",
     "text": [
      "Number of possible slices: 3\n",
      "Surplus : 666\n"
     ]
    }
   ],
   "source": [
    "surplus = data.shape[1] % (44100 * slice_length)\n",
    "number_of_slices = data.shape[1] // (44100 * slice_length)\n",
    "\n",
    "print(f'Number of possible slices: {number_of_slices}')\n",
    "print(f'Surplus : {surplus}')"
   ]
  },
  {
   "cell_type": "code",
   "execution_count": 51,
   "metadata": {},
   "outputs": [
    {
     "data": {
      "text/plain": [
       "(2, 1323000)"
      ]
     },
     "execution_count": 51,
     "metadata": {},
     "output_type": "execute_result"
    }
   ],
   "source": [
    "np.array([\n",
    "    data[0][(data.shape[1] % (sample_rate * slice_length)):],\n",
    "    data[1][(data.shape[1] % (sample_rate * slice_length)):]\n",
    "]).shape"
   ]
  },
  {
   "cell_type": "code",
   "execution_count": 52,
   "metadata": {},
   "outputs": [
    {
     "name": "stdout",
     "output_type": "stream",
     "text": [
      "(2, 1323666)\n",
      "(441222,)\n",
      "(441222,)\n",
      "(441222,)\n"
     ]
    }
   ],
   "source": [
    "print(data.shape)\n",
    "untrimmed = np.array_split(data[0], number_of_slices)\n",
    "\n",
    "for trim in untrimmed:\n",
    "    print(trim.shape)"
   ]
  },
  {
   "cell_type": "code",
   "execution_count": 54,
   "metadata": {},
   "outputs": [
    {
     "name": "stdout",
     "output_type": "stream",
     "text": [
      "(1323000,)\n",
      "(441000,)\n",
      "(441000,)\n",
      "(441000,)\n"
     ]
    }
   ],
   "source": [
    "trimmed_data = data[0][surplus:]\n",
    "print(trimmed_data.shape)\n",
    "trimmed = np.array_split(trimmed_data, number_of_slices)\n",
    "\n",
    "for trim in trimmed:\n",
    "    print(trim.shape)"
   ]
  },
  {
   "cell_type": "code",
   "execution_count": 55,
   "metadata": {},
   "outputs": [
    {
     "data": {
      "text/plain": [
       "(1323666, 2)"
      ]
     },
     "execution_count": 55,
     "metadata": {},
     "output_type": "execute_result"
    }
   ],
   "source": [
    "data.reshape([data.shape[1], 2]).shape"
   ]
  },
  {
   "cell_type": "code",
   "execution_count": 56,
   "metadata": {},
   "outputs": [
    {
     "data": {
      "text/plain": [
       "array([[0.53500002, 0.85029418, 0.46369453, ..., 0.32928207, 0.20305691,\n",
       "        0.19509896],\n",
       "       [0.41242966, 0.11886932, 0.37238821, ..., 0.62609937, 0.94017031,\n",
       "        0.77766901]])"
      ]
     },
     "execution_count": 56,
     "metadata": {},
     "output_type": "execute_result"
    }
   ],
   "source": [
    "data"
   ]
  },
  {
   "cell_type": "code",
   "execution_count": null,
   "metadata": {},
   "outputs": [],
   "source": []
  }
 ],
 "metadata": {
  "kernelspec": {
   "display_name": "Python 3",
   "language": "python",
   "name": "python3"
  },
  "language_info": {
   "codemirror_mode": {
    "name": "ipython",
    "version": 3
   },
   "file_extension": ".py",
   "mimetype": "text/x-python",
   "name": "python",
   "nbconvert_exporter": "python",
   "pygments_lexer": "ipython3",
   "version": "3.6.9"
  }
 },
 "nbformat": 4,
 "nbformat_minor": 2
}
